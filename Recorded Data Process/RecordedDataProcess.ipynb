{
 "cells": [
  {
   "cell_type": "code",
   "execution_count": 9,
   "metadata": {},
   "outputs": [
    {
     "name": "stdout",
     "output_type": "stream",
     "text": [
      "Processed and saved: C:/Users/JH11272/Desktop/GitArch/Ping360-Capture-analysis-and-AI/Processed Data after Record\\2024-03-13 15-50-16Gain_0_Results.csv\n"
     ]
    }
   ],
   "source": [
    "import pandas as pd\n",
    "import os\n",
    "\n",
    "# Specify the path of the input data file and the output directory\n",
    "input_file_path = 'C:/Users/JH11272/Desktop/GitArch/Ping360-Capture-analysis-and-AI/Sample Collected Data/2024-03-13 15-50-16Gain_0_Results.csv'  # Replace with your specific file path\n",
    "output_folder_path = 'C:/Users/JH11272/Desktop/GitArch/Ping360-Capture-analysis-and-AI/Processed Data after Record'  # Replace with your specific output folder path\n",
    "\n",
    "# Function to process and save a single CSV file\n",
    "def process_and_save_csv(file_path, output_dir):\n",
    "    # Manually reading the file line by line because of its unique format\n",
    "    with open(file_path, 'r') as file:\n",
    "        lines = file.readlines()\n",
    "\n",
    "    # Parsing each line to separate angles from intensity values\n",
    "    angle_intensity_data = [line.strip().split(';') for line in lines]\n",
    "\n",
    "    # Creating a dataframe with the first column as angles and the remaining columns as intensity values\n",
    "    df_transformed = pd.DataFrame(angle_intensity_data)\n",
    "\n",
    "    # Setting the first row as header\n",
    "    df_transformed.columns = df_transformed.iloc[0]\n",
    "    df_transformed = df_transformed.drop(df_transformed.index[0])\n",
    "\n",
    "    # Rename the first column explicitly to \"Angle (gradian)\"\n",
    "    df_transformed.columns.values[0] = \"Angle (gradian)\"\n",
    "\n",
    "    # Filter out rows that only contain 'None' values except for the 'Angle (gradian)' column\n",
    "    df_filtered = df_transformed[df_transformed.iloc[:, 1].notna()]\n",
    "\n",
    "    # Remove columns that entirely consist of 'None' values\n",
    "    df_filtered = df_filtered.dropna(axis=1, how='all')\n",
    "\n",
    "    # Reset index to clean up the dataframe\n",
    "    df_filtered.reset_index(drop=True, inplace=True)\n",
    "\n",
    "    # Correct the column names to reflect the proper structure\n",
    "    df_corrected = df_filtered.copy()\n",
    "    df_corrected.columns = ['Angle (gradian)'] + [f'Intensity Value {i}' for i in range(1, len(df_corrected.columns))]\n",
    "\n",
    "    # Generate output file path based on the input file path and desired naming convention\n",
    "    output_file_name = os.path.basename(file_path)  # Use the filename directly\n",
    "    output_file_path = os.path.join(output_dir, output_file_name)\n",
    "\n",
    "    # Save the corrected dataframe to a new CSV file\n",
    "    df_corrected.to_csv(output_file_path, index=False)\n",
    "    print(f\"Processed and saved: {output_file_path}\")\n",
    "\n",
    "# Process the specified single file\n",
    "if os.path.isfile(input_file_path):\n",
    "    process_and_save_csv(input_file_path, output_folder_path)\n",
    "else:\n",
    "    print(f\"File not found: {input_file_path}\")\n"
   ]
  }
 ],
 "metadata": {
  "kernelspec": {
   "display_name": "LWEmb",
   "language": "python",
   "name": "python3"
  },
  "language_info": {
   "codemirror_mode": {
    "name": "ipython",
    "version": 3
   },
   "file_extension": ".py",
   "mimetype": "text/x-python",
   "name": "python",
   "nbconvert_exporter": "python",
   "pygments_lexer": "ipython3",
   "version": "3.9.19"
  }
 },
 "nbformat": 4,
 "nbformat_minor": 2
}
